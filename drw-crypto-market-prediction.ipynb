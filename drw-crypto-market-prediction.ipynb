{
 "cells": [
  {
   "cell_type": "code",
   "execution_count": null,
   "metadata": {
    "_cell_guid": "b1076dfc-b9ad-4769-8c92-a6c4dae69d19",
    "_uuid": "8f2839f25d086af736a60e9eeb907d3b93b6e0e5",
    "execution": {
     "iopub.execute_input": "2025-06-13T15:03:58.245023Z",
     "iopub.status.busy": "2025-06-13T15:03:58.244722Z",
     "iopub.status.idle": "2025-06-13T15:03:58.736772Z",
     "shell.execute_reply": "2025-06-13T15:03:58.735684Z",
     "shell.execute_reply.started": "2025-06-13T15:03:58.244998Z"
    },
    "trusted": true
   },
   "outputs": [],
   "source": [
    "# This Python 3 environment comes with many helpful analytics libraries installed\n",
    "# It is defined by the kaggle/python Docker image: https://github.com/kaggle/docker-python\n",
    "# For example, here's several helpful packages to load\n",
    "\n",
    "import numpy as np # linear algebra\n",
    "import pandas as pd # data processing, CSV file I/O (e.g. pd.read_csv)\n",
    "\n",
    "# Input data files are available in the read-only \"../input/\" directory\n",
    "# For example, running this (by clicking run or pressing Shift+Enter) will list all files under the input directory\n",
    "\n",
    "import os\n",
    "for dirname, _, filenames in os.walk('/kaggle/input'):\n",
    "    for filename in filenames:\n",
    "        print(os.path.join(dirname, filename))\n",
    "\n",
    "# You can write up to 20GB to the current directory (/kaggle/working/) that gets preserved as output when you create a version using \"Save & Run All\" \n",
    "# You can also write temporary files to /kaggle/temp/, but they won't be saved outside of the current session"
   ]
  },
  {
   "cell_type": "markdown",
   "metadata": {},
   "source": [
    "## Importing Required Libraries"
   ]
  },
  {
   "cell_type": "code",
   "execution_count": null,
   "metadata": {
    "execution": {
     "iopub.execute_input": "2025-06-13T15:03:58.739007Z",
     "iopub.status.busy": "2025-06-13T15:03:58.738611Z",
     "iopub.status.idle": "2025-06-13T15:03:59.572202Z",
     "shell.execute_reply": "2025-06-13T15:03:59.571297Z",
     "shell.execute_reply.started": "2025-06-13T15:03:58.738981Z"
    },
    "trusted": true
   },
   "outputs": [],
   "source": [
    "import numpy as np \n",
    "import pandas as pd \n",
    "import matplotlib.pyplot as plt \n",
    "import seaborn as sns\n",
    "%matplotlib inline "
   ]
  },
  {
   "cell_type": "markdown",
   "metadata": {},
   "source": [
    "## Read Data"
   ]
  },
  {
   "cell_type": "code",
   "execution_count": null,
   "metadata": {
    "execution": {
     "iopub.execute_input": "2025-06-13T15:03:59.573657Z",
     "iopub.status.busy": "2025-06-13T15:03:59.573218Z",
     "iopub.status.idle": "2025-06-13T15:04:44.1879Z",
     "shell.execute_reply": "2025-06-13T15:04:44.186919Z",
     "shell.execute_reply.started": "2025-06-13T15:03:59.57363Z"
    },
    "trusted": true
   },
   "outputs": [],
   "source": [
    "train = pd.read_parquet(\"/kaggle/input/drw-crypto-market-prediction/train.parquet\")\n",
    "test = pd.read_parquet(\"/kaggle/input/drw-crypto-market-prediction/test.parquet\")\n",
    "sample_submission = pd.read_csv(\"/kaggle/input/drw-crypto-market-prediction/sample_submission.csv\")"
   ]
  },
  {
   "cell_type": "code",
   "execution_count": null,
   "metadata": {
    "execution": {
     "iopub.execute_input": "2025-06-13T15:04:44.189261Z",
     "iopub.status.busy": "2025-06-13T15:04:44.18893Z",
     "iopub.status.idle": "2025-06-13T15:04:44.219517Z",
     "shell.execute_reply": "2025-06-13T15:04:44.218656Z",
     "shell.execute_reply.started": "2025-06-13T15:04:44.189236Z"
    },
    "trusted": true
   },
   "outputs": [],
   "source": [
    "##top 5 rows in train df\n",
    "train.head()"
   ]
  },
  {
   "cell_type": "code",
   "execution_count": null,
   "metadata": {
    "execution": {
     "iopub.execute_input": "2025-06-13T15:04:44.221983Z",
     "iopub.status.busy": "2025-06-13T15:04:44.22165Z",
     "iopub.status.idle": "2025-06-13T15:04:44.244439Z",
     "shell.execute_reply": "2025-06-13T15:04:44.243378Z",
     "shell.execute_reply.started": "2025-06-13T15:04:44.221945Z"
    },
    "trusted": true
   },
   "outputs": [],
   "source": [
    "test.head()"
   ]
  },
  {
   "cell_type": "code",
   "execution_count": null,
   "metadata": {
    "execution": {
     "iopub.execute_input": "2025-06-13T15:04:44.245952Z",
     "iopub.status.busy": "2025-06-13T15:04:44.245643Z",
     "iopub.status.idle": "2025-06-13T15:04:44.271213Z",
     "shell.execute_reply": "2025-06-13T15:04:44.270278Z",
     "shell.execute_reply.started": "2025-06-13T15:04:44.245929Z"
    },
    "trusted": true
   },
   "outputs": [],
   "source": [
    "sample_submission"
   ]
  },
  {
   "cell_type": "markdown",
   "metadata": {},
   "source": [
    "## EDA"
   ]
  },
  {
   "cell_type": "code",
   "execution_count": null,
   "metadata": {
    "execution": {
     "iopub.execute_input": "2025-06-13T15:04:44.272615Z",
     "iopub.status.busy": "2025-06-13T15:04:44.272252Z",
     "iopub.status.idle": "2025-06-13T15:04:46.019362Z",
     "shell.execute_reply": "2025-06-13T15:04:46.018309Z",
     "shell.execute_reply.started": "2025-06-13T15:04:44.272582Z"
    },
    "trusted": true
   },
   "outputs": [],
   "source": [
    "train.isnull().sum()"
   ]
  },
  {
   "cell_type": "code",
   "execution_count": null,
   "metadata": {
    "execution": {
     "iopub.execute_input": "2025-06-13T15:04:46.020865Z",
     "iopub.status.busy": "2025-06-13T15:04:46.020578Z",
     "iopub.status.idle": "2025-06-13T15:04:47.721216Z",
     "shell.execute_reply": "2025-06-13T15:04:47.719873Z",
     "shell.execute_reply.started": "2025-06-13T15:04:46.020841Z"
    },
    "trusted": true
   },
   "outputs": [],
   "source": [
    "test.isnull().sum()"
   ]
  },
  {
   "cell_type": "code",
   "execution_count": null,
   "metadata": {
    "execution": {
     "iopub.execute_input": "2025-06-13T15:04:47.72276Z",
     "iopub.status.busy": "2025-06-13T15:04:47.722482Z",
     "iopub.status.idle": "2025-06-13T15:04:47.753446Z",
     "shell.execute_reply": "2025-06-13T15:04:47.75214Z",
     "shell.execute_reply.started": "2025-06-13T15:04:47.722737Z"
    },
    "trusted": true
   },
   "outputs": [],
   "source": [
    "numerical_features = [feature for feature in train.columns if train[feature].dtype!='O']\n",
    "categorical_features = [feature for feature in train.columns if train[feature].dtype=='O']"
   ]
  },
  {
   "cell_type": "code",
   "execution_count": null,
   "metadata": {
    "execution": {
     "iopub.execute_input": "2025-06-13T15:06:44.682476Z",
     "iopub.status.busy": "2025-06-13T15:06:44.682094Z",
     "iopub.status.idle": "2025-06-13T15:06:44.695378Z",
     "shell.execute_reply": "2025-06-13T15:06:44.694318Z",
     "shell.execute_reply.started": "2025-06-13T15:06:44.682451Z"
    },
    "trusted": true
   },
   "outputs": [],
   "source": [
    "numerical_features"
   ]
  },
  {
   "cell_type": "code",
   "execution_count": null,
   "metadata": {
    "execution": {
     "iopub.execute_input": "2025-06-13T15:06:53.21256Z",
     "iopub.status.busy": "2025-06-13T15:06:53.212177Z",
     "iopub.status.idle": "2025-06-13T15:06:53.217696Z",
     "shell.execute_reply": "2025-06-13T15:06:53.216611Z",
     "shell.execute_reply.started": "2025-06-13T15:06:53.212531Z"
    },
    "trusted": true
   },
   "outputs": [],
   "source": [
    "print(\"Total Numerical Features:\",len(numerical_features))\n",
    "print(\"Total Categorical Features:\",len(categorical_features))"
   ]
  },
  {
   "cell_type": "code",
   "execution_count": null,
   "metadata": {
    "execution": {
     "iopub.execute_input": "2025-06-13T15:06:53.42403Z",
     "iopub.status.busy": "2025-06-13T15:06:53.42371Z",
     "iopub.status.idle": "2025-06-13T15:06:53.430273Z",
     "shell.execute_reply": "2025-06-13T15:06:53.429333Z",
     "shell.execute_reply.started": "2025-06-13T15:06:53.424005Z"
    },
    "trusted": true
   },
   "outputs": [],
   "source": [
    "categorical_features"
   ]
  },
  {
   "cell_type": "markdown",
   "metadata": {},
   "source": [
    "#### Observation:\n",
    "- There is no even a single categorical feature "
   ]
  },
  {
   "cell_type": "code",
   "execution_count": null,
   "metadata": {
    "execution": {
     "iopub.execute_input": "2025-06-13T15:06:53.778386Z",
     "iopub.status.busy": "2025-06-13T15:06:53.778068Z",
     "iopub.status.idle": "2025-06-13T15:06:53.782985Z",
     "shell.execute_reply": "2025-06-13T15:06:53.781796Z",
     "shell.execute_reply.started": "2025-06-13T15:06:53.778361Z"
    },
    "trusted": true
   },
   "outputs": [],
   "source": [
    "# # with the following function we can select highly correlated features\n",
    "# # it will remove the first feature that is correlated with anything other feature\n",
    "\n",
    "# def correlation(dataset, threshold):\n",
    "#     col_corr = set()  # Set of all the names of correlated columns\n",
    "#     corr_matrix = dataset.corr()\n",
    "#     for i in range(len(corr_matrix.columns)):\n",
    "#         for j in range(i):\n",
    "#             if(corr_matrix.iloc[i, j]) > threshold: # we are interested in absolute coeff value\n",
    "#                 colname = corr_matrix.columns[i]  # getting the name of column\n",
    "#                 col_corr.add(colname)\n",
    "#     return col_corr"
   ]
  },
  {
   "cell_type": "code",
   "execution_count": null,
   "metadata": {
    "execution": {
     "iopub.execute_input": "2025-06-13T15:06:53.942968Z",
     "iopub.status.busy": "2025-06-13T15:06:53.942633Z",
     "iopub.status.idle": "2025-06-13T15:06:53.947718Z",
     "shell.execute_reply": "2025-06-13T15:06:53.946332Z",
     "shell.execute_reply.started": "2025-06-13T15:06:53.942946Z"
    },
    "trusted": true
   },
   "outputs": [],
   "source": [
    "# highly_correlated_feature = correlation(train,0.9)"
   ]
  },
  {
   "cell_type": "code",
   "execution_count": null,
   "metadata": {
    "execution": {
     "iopub.execute_input": "2025-06-13T15:06:55.28105Z",
     "iopub.status.busy": "2025-06-13T15:06:55.280664Z",
     "iopub.status.idle": "2025-06-13T15:06:55.307301Z",
     "shell.execute_reply": "2025-06-13T15:06:55.305904Z",
     "shell.execute_reply.started": "2025-06-13T15:06:55.28102Z"
    },
    "trusted": true
   },
   "outputs": [],
   "source": [
    "train.head()"
   ]
  },
  {
   "cell_type": "code",
   "execution_count": null,
   "metadata": {
    "execution": {
     "iopub.execute_input": "2025-06-13T15:06:55.504959Z",
     "iopub.status.busy": "2025-06-13T15:06:55.504618Z",
     "iopub.status.idle": "2025-06-13T15:06:55.510122Z",
     "shell.execute_reply": "2025-06-13T15:06:55.509074Z",
     "shell.execute_reply.started": "2025-06-13T15:06:55.50493Z"
    },
    "trusted": true
   },
   "outputs": [],
   "source": [
    "print(\"Shape of train:\",train.shape)"
   ]
  },
  {
   "cell_type": "markdown",
   "metadata": {},
   "source": [
    "#### Observation: There exist some values with are either infinity or out of range of float64 so for this let's replace those values with np.nan then drop all nan values"
   ]
  },
  {
   "cell_type": "code",
   "execution_count": null,
   "metadata": {
    "execution": {
     "iopub.execute_input": "2025-06-13T15:06:55.821903Z",
     "iopub.status.busy": "2025-06-13T15:06:55.8206Z",
     "iopub.status.idle": "2025-06-13T15:07:00.080498Z",
     "shell.execute_reply": "2025-06-13T15:07:00.079321Z",
     "shell.execute_reply.started": "2025-06-13T15:06:55.821865Z"
    },
    "trusted": true
   },
   "outputs": [],
   "source": [
    "train.replace([np.inf, -np.inf], np.nan, inplace=True)"
   ]
  },
  {
   "cell_type": "code",
   "execution_count": null,
   "metadata": {
    "execution": {
     "iopub.execute_input": "2025-06-13T15:07:00.082554Z",
     "iopub.status.busy": "2025-06-13T15:07:00.082211Z",
     "iopub.status.idle": "2025-06-13T15:07:01.72255Z",
     "shell.execute_reply": "2025-06-13T15:07:01.721457Z",
     "shell.execute_reply.started": "2025-06-13T15:07:00.082529Z"
    },
    "trusted": true
   },
   "outputs": [],
   "source": [
    "train.isnull().sum().sort_values(ascending=False)"
   ]
  },
  {
   "cell_type": "code",
   "execution_count": null,
   "metadata": {
    "execution": {
     "iopub.execute_input": "2025-06-13T15:07:01.723801Z",
     "iopub.status.busy": "2025-06-13T15:07:01.723521Z",
     "iopub.status.idle": "2025-06-13T15:07:03.3583Z",
     "shell.execute_reply": "2025-06-13T15:07:03.357253Z",
     "shell.execute_reply.started": "2025-06-13T15:07:01.723777Z"
    },
    "trusted": true
   },
   "outputs": [],
   "source": [
    "train.isnull().sum().sort_values(ascending=False)[lambda x: x > 0]"
   ]
  },
  {
   "cell_type": "code",
   "execution_count": null,
   "metadata": {
    "execution": {
     "iopub.execute_input": "2025-06-13T15:07:03.360731Z",
     "iopub.status.busy": "2025-06-13T15:07:03.360363Z",
     "iopub.status.idle": "2025-06-13T15:07:04.986797Z",
     "shell.execute_reply": "2025-06-13T15:07:04.985756Z",
     "shell.execute_reply.started": "2025-06-13T15:07:03.360702Z"
    },
    "trusted": true
   },
   "outputs": [],
   "source": [
    "cols_to_drop = train.isnull().sum().sort_values(ascending=False)[lambda x: x > 0].index"
   ]
  },
  {
   "cell_type": "code",
   "execution_count": null,
   "metadata": {
    "execution": {
     "iopub.execute_input": "2025-06-13T15:07:04.988395Z",
     "iopub.status.busy": "2025-06-13T15:07:04.988035Z",
     "iopub.status.idle": "2025-06-13T15:07:07.90318Z",
     "shell.execute_reply": "2025-06-13T15:07:07.902207Z",
     "shell.execute_reply.started": "2025-06-13T15:07:04.988361Z"
    },
    "trusted": true
   },
   "outputs": [],
   "source": [
    "train.drop(columns=cols_to_drop, inplace=True)"
   ]
  },
  {
   "cell_type": "code",
   "execution_count": null,
   "metadata": {
    "execution": {
     "iopub.execute_input": "2025-06-13T15:07:38.231596Z",
     "iopub.status.busy": "2025-06-13T15:07:38.229805Z",
     "iopub.status.idle": "2025-06-13T15:07:38.239432Z",
     "shell.execute_reply": "2025-06-13T15:07:38.237994Z",
     "shell.execute_reply.started": "2025-06-13T15:07:38.231544Z"
    },
    "trusted": true
   },
   "outputs": [],
   "source": [
    "train.shape"
   ]
  },
  {
   "cell_type": "markdown",
   "metadata": {},
   "source": [
    "## Independent and Target Fearure"
   ]
  },
  {
   "cell_type": "code",
   "execution_count": null,
   "metadata": {
    "execution": {
     "iopub.execute_input": "2025-06-13T15:07:43.36829Z",
     "iopub.status.busy": "2025-06-13T15:07:43.367981Z",
     "iopub.status.idle": "2025-06-13T15:07:47.908726Z",
     "shell.execute_reply": "2025-06-13T15:07:47.907737Z",
     "shell.execute_reply.started": "2025-06-13T15:07:43.368266Z"
    },
    "trusted": true
   },
   "outputs": [],
   "source": [
    "X = train.drop(columns=['label']) ## Independent features\n",
    "y = train['label']"
   ]
  },
  {
   "cell_type": "code",
   "execution_count": null,
   "metadata": {
    "execution": {
     "iopub.execute_input": "2025-06-13T15:07:49.620351Z",
     "iopub.status.busy": "2025-06-13T15:07:49.620013Z",
     "iopub.status.idle": "2025-06-13T15:07:53.849844Z",
     "shell.execute_reply": "2025-06-13T15:07:53.848896Z",
     "shell.execute_reply.started": "2025-06-13T15:07:49.620323Z"
    },
    "trusted": true
   },
   "outputs": [],
   "source": [
    "from sklearn.feature_selection import SelectKBest, f_regression\n",
    "\n",
    "selector = SelectKBest(score_func=f_regression, k=200)  # choose top 200\n",
    "X_selected = selector.fit_transform(X, y)\n",
    "\n",
    "mask = selector.get_support()\n",
    "\n",
    "# Get names of selected features\n",
    "selected_features = X.columns[mask]\n",
    "print(selected_features)"
   ]
  },
  {
   "cell_type": "code",
   "execution_count": null,
   "metadata": {
    "execution": {
     "iopub.execute_input": "2025-06-13T15:09:58.011205Z",
     "iopub.status.busy": "2025-06-13T15:09:58.010859Z",
     "iopub.status.idle": "2025-06-13T15:09:59.569328Z",
     "shell.execute_reply": "2025-06-13T15:09:59.568291Z",
     "shell.execute_reply.started": "2025-06-13T15:09:58.01118Z"
    },
    "trusted": true
   },
   "outputs": [],
   "source": [
    "## columns that we will use for training \n",
    "# cols_to_keep = ['X19', 'X20', 'X21', 'X22', 'X27', 'X28', 'X29', 'X219', 'X287', 'X289',\n",
    "#        'X291', 'X531', 'X858', 'X860', 'X863'] ## keeping only these features for training \n",
    "\n",
    "cols_to_keep = ['bid_qty','ask_qty','buy_qty','sell_qty','volume'] + list(selected_features)\n",
    "\n",
    "X = X[cols_to_keep]"
   ]
  },
  {
   "cell_type": "code",
   "execution_count": null,
   "metadata": {
    "execution": {
     "iopub.execute_input": "2025-06-13T15:10:04.968864Z",
     "iopub.status.busy": "2025-06-13T15:10:04.968524Z",
     "iopub.status.idle": "2025-06-13T15:10:04.993164Z",
     "shell.execute_reply": "2025-06-13T15:10:04.992076Z",
     "shell.execute_reply.started": "2025-06-13T15:10:04.968837Z"
    },
    "trusted": true
   },
   "outputs": [],
   "source": [
    "X.head()"
   ]
  },
  {
   "cell_type": "markdown",
   "metadata": {},
   "source": [
    "## Train Test Split"
   ]
  },
  {
   "cell_type": "code",
   "execution_count": null,
   "metadata": {
    "execution": {
     "iopub.execute_input": "2025-06-13T15:10:08.328924Z",
     "iopub.status.busy": "2025-06-13T15:10:08.328038Z",
     "iopub.status.idle": "2025-06-13T15:10:09.539077Z",
     "shell.execute_reply": "2025-06-13T15:10:09.53799Z",
     "shell.execute_reply.started": "2025-06-13T15:10:08.328887Z"
    },
    "trusted": true
   },
   "outputs": [],
   "source": [
    "from sklearn.model_selection import train_test_split\n",
    "X_train,X_test,y_train,y_test = train_test_split(X,y,test_size=0.2,random_state=42)"
   ]
  },
  {
   "cell_type": "code",
   "execution_count": null,
   "metadata": {
    "execution": {
     "iopub.execute_input": "2025-06-13T15:10:09.541096Z",
     "iopub.status.busy": "2025-06-13T15:10:09.540687Z",
     "iopub.status.idle": "2025-06-13T15:10:09.546986Z",
     "shell.execute_reply": "2025-06-13T15:10:09.545647Z",
     "shell.execute_reply.started": "2025-06-13T15:10:09.541059Z"
    },
    "trusted": true
   },
   "outputs": [],
   "source": [
    "print(\"Shape of X_train:\",X_train.shape)\n",
    "print(\"Shape of X_test:\",X_test.shape)"
   ]
  },
  {
   "cell_type": "code",
   "execution_count": null,
   "metadata": {
    "execution": {
     "iopub.execute_input": "2025-06-13T15:10:09.97423Z",
     "iopub.status.busy": "2025-06-13T15:10:09.973803Z",
     "iopub.status.idle": "2025-06-13T15:10:09.980187Z",
     "shell.execute_reply": "2025-06-13T15:10:09.979073Z",
     "shell.execute_reply.started": "2025-06-13T15:10:09.974203Z"
    },
    "trusted": true
   },
   "outputs": [],
   "source": [
    "print(\"Shape of y_train:\",y_train.shape)\n",
    "print(\"Shape of y_test:\",y_test.shape)"
   ]
  },
  {
   "cell_type": "markdown",
   "metadata": {},
   "source": [
    "## Scalling the features"
   ]
  },
  {
   "cell_type": "code",
   "execution_count": null,
   "metadata": {
    "execution": {
     "iopub.execute_input": "2025-06-13T15:10:10.301109Z",
     "iopub.status.busy": "2025-06-13T15:10:10.300633Z",
     "iopub.status.idle": "2025-06-13T15:10:10.305711Z",
     "shell.execute_reply": "2025-06-13T15:10:10.304704Z",
     "shell.execute_reply.started": "2025-06-13T15:10:10.301074Z"
    },
    "trusted": true
   },
   "outputs": [],
   "source": [
    "from sklearn.preprocessing import StandardScaler"
   ]
  },
  {
   "cell_type": "code",
   "execution_count": null,
   "metadata": {
    "execution": {
     "iopub.execute_input": "2025-06-13T15:10:10.472153Z",
     "iopub.status.busy": "2025-06-13T15:10:10.471811Z",
     "iopub.status.idle": "2025-06-13T15:10:10.481776Z",
     "shell.execute_reply": "2025-06-13T15:10:10.480656Z",
     "shell.execute_reply.started": "2025-06-13T15:10:10.472119Z"
    },
    "trusted": true
   },
   "outputs": [],
   "source": [
    "from sklearn.compose import ColumnTransformer"
   ]
  },
  {
   "cell_type": "code",
   "execution_count": null,
   "metadata": {
    "execution": {
     "iopub.execute_input": "2025-06-13T15:10:10.667632Z",
     "iopub.status.busy": "2025-06-13T15:10:10.666497Z",
     "iopub.status.idle": "2025-06-13T15:10:10.67169Z",
     "shell.execute_reply": "2025-06-13T15:10:10.67055Z",
     "shell.execute_reply.started": "2025-06-13T15:10:10.667596Z"
    },
    "trusted": true
   },
   "outputs": [],
   "source": [
    "scaler = StandardScaler()"
   ]
  },
  {
   "cell_type": "code",
   "execution_count": null,
   "metadata": {
    "execution": {
     "iopub.execute_input": "2025-06-13T15:10:11.805938Z",
     "iopub.status.busy": "2025-06-13T15:10:11.805613Z",
     "iopub.status.idle": "2025-06-13T15:10:11.819269Z",
     "shell.execute_reply": "2025-06-13T15:10:11.81777Z",
     "shell.execute_reply.started": "2025-06-13T15:10:11.805914Z"
    },
    "trusted": true
   },
   "outputs": [],
   "source": [
    "numerical_features_list = [feature for feature in X.columns if X[feature].dtype!='O']"
   ]
  },
  {
   "cell_type": "code",
   "execution_count": null,
   "metadata": {
    "execution": {
     "iopub.execute_input": "2025-06-13T15:10:11.992459Z",
     "iopub.status.busy": "2025-06-13T15:10:11.992066Z",
     "iopub.status.idle": "2025-06-13T15:10:11.997536Z",
     "shell.execute_reply": "2025-06-13T15:10:11.996498Z",
     "shell.execute_reply.started": "2025-06-13T15:10:11.992407Z"
    },
    "trusted": true
   },
   "outputs": [],
   "source": [
    "transformer = ColumnTransformer(transformers=[\n",
    "    ('standard_scalling', scaler, numerical_features_list),\n",
    "], remainder='passthrough')  # Keeps other columns as they are"
   ]
  },
  {
   "cell_type": "code",
   "execution_count": null,
   "metadata": {
    "execution": {
     "iopub.execute_input": "2025-06-13T15:10:12.158512Z",
     "iopub.status.busy": "2025-06-13T15:10:12.158138Z",
     "iopub.status.idle": "2025-06-13T15:10:14.504563Z",
     "shell.execute_reply": "2025-06-13T15:10:14.503386Z",
     "shell.execute_reply.started": "2025-06-13T15:10:12.158485Z"
    },
    "trusted": true
   },
   "outputs": [],
   "source": [
    "X_train_trf = transformer.fit_transform(X_train)\n",
    "X_test_trf = transformer.transform(X_test)"
   ]
  },
  {
   "cell_type": "markdown",
   "metadata": {},
   "source": [
    "## Model Training and Evaluation"
   ]
  },
  {
   "cell_type": "code",
   "execution_count": null,
   "metadata": {
    "execution": {
     "iopub.execute_input": "2025-06-13T15:10:14.506576Z",
     "iopub.status.busy": "2025-06-13T15:10:14.506223Z",
     "iopub.status.idle": "2025-06-13T15:10:14.511757Z",
     "shell.execute_reply": "2025-06-13T15:10:14.510453Z",
     "shell.execute_reply.started": "2025-06-13T15:10:14.50655Z"
    },
    "trusted": true
   },
   "outputs": [],
   "source": [
    "## Model Training and Model Selection\n",
    "from sklearn.metrics import r2_score,mean_squared_error,mean_absolute_error,mean_squared_log_error"
   ]
  },
  {
   "cell_type": "code",
   "execution_count": null,
   "metadata": {
    "execution": {
     "iopub.execute_input": "2025-06-13T15:10:14.513431Z",
     "iopub.status.busy": "2025-06-13T15:10:14.513023Z",
     "iopub.status.idle": "2025-06-13T15:10:14.531107Z",
     "shell.execute_reply": "2025-06-13T15:10:14.530013Z",
     "shell.execute_reply.started": "2025-06-13T15:10:14.513375Z"
    },
    "trusted": true
   },
   "outputs": [],
   "source": [
    "## Creating a function to evaluat model\n",
    "def evaluate_model(true, predicted):\n",
    "    mae=mean_absolute_error(true,predicted)\n",
    "    mse=mean_squared_error(true,predicted)\n",
    "    rmse=np.sqrt(mse)\n",
    "    r2=r2_score(true,predicted)\n",
    "\n",
    "    r = np.corrcoef(true, predicted)[0, 1]\n",
    "    print()\n",
    "    print(f\"Pearson Correlation Coefficient: {r}\")\n",
    "    print(\"R2 Score:{:.4f}\".format(r2))\n",
    "    print(\"MAE:{:.4f}\".format(mae))\n",
    "    print(\"MSE:{:.4f}\".format(mse))\n",
    "    print(\"RMSE:{:.4f}\".format(rmse))\n",
    "    \n",
    "    # ---------\n",
    "    return 0"
   ]
  },
  {
   "cell_type": "code",
   "execution_count": null,
   "metadata": {
    "execution": {
     "iopub.execute_input": "2025-06-13T15:10:14.533162Z",
     "iopub.status.busy": "2025-06-13T15:10:14.532898Z",
     "iopub.status.idle": "2025-06-13T15:10:18.307798Z",
     "shell.execute_reply": "2025-06-13T15:10:18.30676Z",
     "shell.execute_reply.started": "2025-06-13T15:10:14.533139Z"
    },
    "trusted": true
   },
   "outputs": [],
   "source": [
    "## Model Training and Model Selection\n",
    "\n",
    "from sklearn.linear_model import LinearRegression,Ridge,Lasso,ElasticNet\n",
    "from sklearn.neighbors import KNeighborsRegressor\n",
    "\n",
    "from sklearn.svm import SVR\n",
    "\n",
    "from sklearn.tree import DecisionTreeRegressor\n",
    "from sklearn.ensemble import RandomForestRegressor\n",
    "from sklearn.ensemble import AdaBoostRegressor\n",
    "from sklearn.ensemble import GradientBoostingRegressor\n",
    "\n",
    "import xgboost \n",
    "from xgboost import XGBRegressor\n",
    "\n",
    "from lightgbm import LGBMRegressor\n",
    "\n",
    "from catboost import CatBoostRegressor"
   ]
  },
  {
   "cell_type": "markdown",
   "metadata": {},
   "source": [
    "##### Doing same preprocessing on test data "
   ]
  },
  {
   "cell_type": "code",
   "execution_count": null,
   "metadata": {
    "execution": {
     "iopub.execute_input": "2025-06-13T15:10:21.111809Z",
     "iopub.status.busy": "2025-06-13T15:10:21.111083Z",
     "iopub.status.idle": "2025-06-13T15:10:28.73267Z",
     "shell.execute_reply": "2025-06-13T15:10:28.731356Z",
     "shell.execute_reply.started": "2025-06-13T15:10:21.111777Z"
    },
    "trusted": true
   },
   "outputs": [],
   "source": [
    "test=test.drop(columns=['label']) ## dropping target feature from test dataframe\n",
    "test = test[cols_to_keep]\n",
    "test_trf = transformer.transform(test)"
   ]
  },
  {
   "cell_type": "code",
   "execution_count": null,
   "metadata": {
    "execution": {
     "iopub.execute_input": "2025-06-13T15:10:28.734875Z",
     "iopub.status.busy": "2025-06-13T15:10:28.734533Z",
     "iopub.status.idle": "2025-06-13T15:10:28.746354Z",
     "shell.execute_reply": "2025-06-13T15:10:28.74513Z",
     "shell.execute_reply.started": "2025-06-13T15:10:28.734841Z"
    },
    "trusted": true
   },
   "outputs": [],
   "source": [
    "sample_submission"
   ]
  },
  {
   "cell_type": "code",
   "execution_count": null,
   "metadata": {
    "execution": {
     "iopub.execute_input": "2025-06-13T15:10:30.965388Z",
     "iopub.status.busy": "2025-06-13T15:10:30.96452Z",
     "iopub.status.idle": "2025-06-13T15:10:30.970356Z",
     "shell.execute_reply": "2025-06-13T15:10:30.969187Z",
     "shell.execute_reply.started": "2025-06-13T15:10:30.965355Z"
    },
    "trusted": true
   },
   "outputs": [],
   "source": [
    "id_column = sample_submission['ID']"
   ]
  },
  {
   "cell_type": "code",
   "execution_count": null,
   "metadata": {
    "execution": {
     "iopub.execute_input": "2025-06-13T15:10:40.028274Z",
     "iopub.status.busy": "2025-06-13T15:10:40.027818Z",
     "iopub.status.idle": "2025-06-13T15:11:02.966638Z",
     "shell.execute_reply": "2025-06-13T15:11:02.965126Z",
     "shell.execute_reply.started": "2025-06-13T15:10:40.028242Z"
    },
    "trusted": true
   },
   "outputs": [],
   "source": [
    "## Model training\n",
    "models={\n",
    "    \"Linear_Regression\":LinearRegression(),\n",
    "\n",
    "    \"Linear_Regression_with_params\":LinearRegression(\n",
    "                        fit_intercept=True,                 \n",
    "                        copy_X=True,              \n",
    "                        n_jobs=-1,                \n",
    "                        positive=False            \n",
    "                        ),\n",
    "    \n",
    "    # \"Lasso\":Lasso(),\n",
    "    \n",
    "    # \"Ridge\":Ridge(),\n",
    "    \n",
    "    # \"ElasticNet\":ElasticNet(),\n",
    "    \n",
    "    # \"DecisionTreeRegressor\":DecisionTreeRegressor(),\n",
    "    \n",
    "    # \"DecisionTreeRegressor_with_params\":DecisionTreeRegressor(\n",
    "    #                                     criterion='squared_error',   \n",
    "    #                                     splitter='best',             \n",
    "    #                                     max_depth=10,                \n",
    "    #                                     min_samples_split=10,       \n",
    "    #                                     min_samples_leaf=4,         \n",
    "    #                                     max_features='sqrt',        \n",
    "    #                                     random_state=42             \n",
    "    #                                     ),\n",
    "    \n",
    "    # \"AdaBoost\":AdaBoostRegressor(),\n",
    "    \n",
    "    # \"GradientBoost\":GradientBoostingRegressor(),\n",
    "    \n",
    "    # \"XGBRegressor\":XGBRegressor(\n",
    "    #                 max_depth=10,\n",
    "    #                 colsample_bytree=0.75,\n",
    "    #                 subsample=0.9,\n",
    "    #                 n_estimators=2000,\n",
    "    #                 learning_rate=0.01,\n",
    "    #                 gamma=0.01,\n",
    "    #                 max_delta_step=2,\n",
    "    #                 eval_metric=\"rmse\",\n",
    "    #                 enable_categorical=True,\n",
    "    #                 device = 'cuda'),\n",
    "    \n",
    "    # \"LGBMRegressor\":LGBMRegressor(\n",
    "    #                 n_estimators=1000,\n",
    "    #                 learning_rate=0.05,\n",
    "    #                 max_depth=7,\n",
    "    #                 num_leaves=31,\n",
    "    #                 min_child_samples=20,\n",
    "    #                 subsample=0.8,\n",
    "    #                 colsample_bytree=0.8,\n",
    "    #                 random_state=42,\n",
    "    #                 n_jobs=-1\n",
    "    #                 ),\n",
    "    \n",
    "    # \"CatBoostRegressor\":CatBoostRegressor(\n",
    "    #                     iterations= 3500,\n",
    "    #                     depth= 12,\n",
    "    #                     loss_function= 'RMSE',\n",
    "    #                     l2_leaf_reg= 3,\n",
    "    #                     random_seed= 42,\n",
    "    #                     eval_metric= 'RMSE',\n",
    "    #                     silent=True\n",
    "    #                     ),\n",
    "    \n",
    "    # \"RandomForest\":RandomForestRegressor(\n",
    "    #                 n_estimators=300,\n",
    "    #                 max_depth=20,\n",
    "    #                 min_samples_split=5,\n",
    "    #                 min_samples_leaf=2,\n",
    "    #                 max_features='sqrt',\n",
    "    #                 random_state=42,\n",
    "    #                 n_jobs=-1\n",
    "    #                 ),\n",
    "}\n",
    "\n",
    "model_name_list = []\n",
    "corrcoef_list = []\n",
    "\n",
    "for i in range(len(list(models))):\n",
    "\n",
    "    model_name = list(models.keys())[i]\n",
    "    model=list(models.values())[i]\n",
    "    \n",
    "    print(model_name,\"=============>\")\n",
    "    print()\n",
    "    \n",
    "    model.fit(X_train_trf,y_train) ## Train Model on X_train\n",
    "\n",
    "    ## Make Predictions\n",
    "    y_train_pred=model.predict(X_train_trf)\n",
    "    y_test_pred=model.predict(X_test_trf)\n",
    "    \n",
    "    print()\n",
    "    print(\"Evaluating Train Dataset\")\n",
    "    evaluate_model(y_train,y_train_pred)\n",
    "\n",
    "    print(f\"\\n{'-'*50}\\n\")\n",
    "    \n",
    "    print(\"Evaluating Test Dataset\")\n",
    "    evaluate_model(y_test,y_test_pred)\n",
    "    print(\"=\"*60)\n",
    "    print(\"\\n\")\n",
    "\n",
    "    ### appending the vlaues in list \n",
    "    model_name_list.append(model_name)\n",
    "    corrcoef_list.append(np.corrcoef(y_test, y_test_pred)[0, 1])\n",
    "\n",
    "    ## prediction\n",
    "    prediction = model.predict(test_trf)\n",
    "\n",
    "    result = pd.DataFrame(\n",
    "    {\n",
    "        'ID':id_column,\n",
    "        'prediction':prediction\n",
    "    }\n",
    "    )\n",
    " \n",
    "    result.to_csv('{}_prediction.csv'.format(model_name),index=False)\n",
    "    print(\"File saved as '{}_prediction.csv'....\".format(model_name))\n",
    "    print()\n",
    "\n",
    "## creating dataframe contains model name and their performance on X_test \n",
    "performance_df = pd.DataFrame({\n",
    "    'ML Algo Name': model_name_list,\n",
    "    'Pearson Correlation Coefficient': corrcoef_list\n",
    "})"
   ]
  },
  {
   "cell_type": "code",
   "execution_count": 1,
   "metadata": {
    "execution": {
     "iopub.execute_input": "2025-06-13T15:16:33.363182Z",
     "iopub.status.busy": "2025-06-13T15:16:33.36278Z",
     "iopub.status.idle": "2025-06-13T15:16:33.382758Z",
     "shell.execute_reply": "2025-06-13T15:16:33.381586Z",
     "shell.execute_reply.started": "2025-06-13T15:16:33.363153Z"
    },
    "trusted": true
   },
   "outputs": [
    {
     "ename": "NameError",
     "evalue": "name 'performance_df' is not defined",
     "output_type": "error",
     "traceback": [
      "\u001b[31m---------------------------------------------------------------------------\u001b[39m",
      "\u001b[31mNameError\u001b[39m                                 Traceback (most recent call last)",
      "\u001b[36mCell\u001b[39m\u001b[36m \u001b[39m\u001b[32mIn[1]\u001b[39m\u001b[32m, line 1\u001b[39m\n\u001b[32m----> \u001b[39m\u001b[32m1\u001b[39m \u001b[43mperformance_df\u001b[49m.sort_values(\u001b[33m'\u001b[39m\u001b[33mPearson Correlation Coefficient\u001b[39m\u001b[33m'\u001b[39m, ascending=\u001b[38;5;28;01mFalse\u001b[39;00m)\n",
      "\u001b[31mNameError\u001b[39m: name 'performance_df' is not defined"
     ]
    }
   ],
   "source": [
    "performance_df.sort_values('Pearson Correlation Coefficient', ascending=False)"
   ]
  },
  {
   "cell_type": "code",
   "execution_count": null,
   "metadata": {
    "trusted": true
   },
   "outputs": [],
   "source": []
  }
 ],
 "metadata": {
  "kaggle": {
   "accelerator": "none",
   "dataSources": [
    {
     "databundleVersionId": 11418275,
     "sourceId": 96164,
     "sourceType": "competition"
    }
   ],
   "dockerImageVersionId": 31040,
   "isGpuEnabled": false,
   "isInternetEnabled": true,
   "language": "python",
   "sourceType": "notebook"
  },
  "kernelspec": {
   "display_name": "Python 3",
   "language": "python",
   "name": "python3"
  },
  "language_info": {
   "codemirror_mode": {
    "name": "ipython",
    "version": 3
   },
   "file_extension": ".py",
   "mimetype": "text/x-python",
   "name": "python",
   "nbconvert_exporter": "python",
   "pygments_lexer": "ipython3",
   "version": "3.13.5"
  }
 },
 "nbformat": 4,
 "nbformat_minor": 4
}
